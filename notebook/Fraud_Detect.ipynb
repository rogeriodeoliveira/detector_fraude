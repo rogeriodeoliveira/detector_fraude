{
  "nbformat": 4,
  "nbformat_minor": 0,
  "metadata": {
    "colab": {
      "name": "Fraud_Analyzer.ipynb",
      "provenance": [],
      "collapsed_sections": [],
      "machine_shape": "hm"
    },
    "kernelspec": {
      "name": "python3",
      "display_name": "Python 3"
    }
  },
  "cells": [
    {
      "cell_type": "markdown",
      "metadata": {
        "id": "C62U-GIF2e77",
        "colab_type": "text"
      },
      "source": [
        "# Modelo de classificação de texto utilizando Machine Learning\n",
        "O objetivo é criar um modelo de machine learning capaz de classificar o textos de e-mail, sms, ou messageiros como sendo FRAUDE ou NÃO FRAUDE\n"
      ]
    },
    {
      "cell_type": "markdown",
      "metadata": {
        "id": "bvo9wfEp607q",
        "colab_type": "text"
      },
      "source": [
        ""
      ]
    },
    {
      "cell_type": "code",
      "metadata": {
        "id": "fjZZ4-g8dMmR",
        "colab_type": "code",
        "colab": {}
      },
      "source": [
        "# Importando as bibliotecas necessarias\n",
        "import numpy as np\n",
        "import pandas as pd\n",
        "import nltk\n",
        "import string\n",
        "from google.colab import files"
      ],
      "execution_count": 0,
      "outputs": []
    },
    {
      "cell_type": "code",
      "metadata": {
        "id": "Ac9MMKuUhEQ2",
        "colab_type": "code",
        "colab": {}
      },
      "source": [
        "# Carega o dataset a partir do computador\n",
        "#uploaded = files.upload()"
      ],
      "execution_count": 0,
      "outputs": []
    },
    {
      "cell_type": "code",
      "metadata": {
        "id": "ERMbNUxluR25",
        "colab_type": "code",
        "outputId": "a5a5108d-98a6-4e77-fa04-d4557a3d8252",
        "colab": {
          "base_uri": "https://localhost:8080/",
          "height": 34
        }
      },
      "source": [
        "# Caso esteja utilizando o Google Colab você pode montar o Google Drive para pegar o arquivo do dataset salvo\n",
        "from google.colab import drive\n",
        "drive.mount('/content/drive')"
      ],
      "execution_count": 0,
      "outputs": [
        {
          "output_type": "stream",
          "text": [
            "Drive already mounted at /content/drive; to attempt to forcibly remount, call drive.mount(\"/content/drive\", force_remount=True).\n"
          ],
          "name": "stdout"
        }
      ]
    },
    {
      "cell_type": "markdown",
      "metadata": {
        "id": "KmTZrBPdBO0u",
        "colab_type": "text"
      },
      "source": [
        "# Sobre o Dataset\n",
        "No momento em que fiz este modelo não encontrei um dataset pronto, então tive que criar um.\n",
        "Felizmente encontrei o site https://catalogodefraudes.rnp.br/ que contém um repositório de mensagens classificadas como fraudulentas.\n",
        "O que fiz então foi criar um Crawler para coletar as informções necessarias para criar meu dataset."
      ]
    },
    {
      "cell_type": "code",
      "metadata": {
        "id": "ZHV1Jti_iCaB",
        "colab_type": "code",
        "colab": {}
      },
      "source": [
        "# Lê o arquivo do dataset em formato CVS - É necessário passar o caminho do arquivo\n",
        "dataset_pd = pd.read_csv('/content/drive/My Drive/Colab Notebooks/fraude.csv',encoding='utf-8')"
      ],
      "execution_count": 0,
      "outputs": []
    },
    {
      "cell_type": "code",
      "metadata": {
        "id": "GYhWjK26OLp9",
        "colab_type": "code",
        "colab": {}
      },
      "source": [
        "# Cria o DataFrame utilizando o Pandas\n",
        "# Para este modelo eu terei que utilizar 2 dataframes, então este é o primeiro a ser criado\n",
        "df1 = pd.DataFrame(dataset_pd)"
      ],
      "execution_count": 0,
      "outputs": []
    },
    {
      "cell_type": "code",
      "metadata": {
        "id": "ZtvdlHsJhQK2",
        "colab_type": "code",
        "outputId": "7af89391-1e64-4be3-92a4-3cefa67ef93b",
        "colab": {
          "base_uri": "https://localhost:8080/",
          "height": 204
        }
      },
      "source": [
        "# Exibe as 5 primeiras linhas do dataframe\n",
        "df1.head()"
      ],
      "execution_count": 0,
      "outputs": [
        {
          "output_type": "execute_result",
          "data": {
            "text/html": [
              "<div>\n",
              "<style scoped>\n",
              "    .dataframe tbody tr th:only-of-type {\n",
              "        vertical-align: middle;\n",
              "    }\n",
              "\n",
              "    .dataframe tbody tr th {\n",
              "        vertical-align: top;\n",
              "    }\n",
              "\n",
              "    .dataframe thead th {\n",
              "        text-align: right;\n",
              "    }\n",
              "</style>\n",
              "<table border=\"1\" class=\"dataframe\">\n",
              "  <thead>\n",
              "    <tr style=\"text-align: right;\">\n",
              "      <th></th>\n",
              "      <th>_id</th>\n",
              "      <th>title</th>\n",
              "      <th>assunto</th>\n",
              "      <th>conteudo</th>\n",
              "    </tr>\n",
              "  </thead>\n",
              "  <tbody>\n",
              "    <tr>\n",
              "      <th>0</th>\n",
              "      <td>13889</td>\n",
              "      <td>Nota Fiscal Eletrônica</td>\n",
              "      <td>Portal de Documentos Fiscais Brasil - Y4GXJFF9...</td>\n",
              "      <td>Portal de Documentos Fiscais Brasil\\r\\n\\r\\n Re...</td>\n",
              "    </tr>\n",
              "    <tr>\n",
              "      <th>1</th>\n",
              "      <td>13887</td>\n",
              "      <td>Currículo</td>\n",
              "      <td>Curriculum Vitae</td>\n",
              "      <td>Boa tarde, Segue em anexo meu curriculum, tenn...</td>\n",
              "    </tr>\n",
              "    <tr>\n",
              "      <th>2</th>\n",
              "      <td>13888</td>\n",
              "      <td>Dispositivo de Segurança Bradesco</td>\n",
              "      <td>Dispositivo de Seguranca Desabilitado - Conta ...</td>\n",
              "      <td>Informamos que o período de uso do seu disposi...</td>\n",
              "    </tr>\n",
              "    <tr>\n",
              "      <th>3</th>\n",
              "      <td>13885</td>\n",
              "      <td>Fatura Net</td>\n",
              "      <td>Fatura em atraso</td>\n",
              "      <td>Para a NET, é muito importante ser transparent...</td>\n",
              "    </tr>\n",
              "    <tr>\n",
              "      <th>4</th>\n",
              "      <td>13886</td>\n",
              "      <td>Atualização de e-mail</td>\n",
              "      <td>Aviso de e-mail</td>\n",
              "      <td>Querido usuário,\\r\\n\\r\\nSua conta de e-mail fo...</td>\n",
              "    </tr>\n",
              "  </tbody>\n",
              "</table>\n",
              "</div>"
            ],
            "text/plain": [
              "     _id  ...                                           conteudo\n",
              "0  13889  ...  Portal de Documentos Fiscais Brasil\\r\\n\\r\\n Re...\n",
              "1  13887  ...  Boa tarde, Segue em anexo meu curriculum, tenn...\n",
              "2  13888  ...  Informamos que o período de uso do seu disposi...\n",
              "3  13885  ...  Para a NET, é muito importante ser transparent...\n",
              "4  13886  ...  Querido usuário,\\r\\n\\r\\nSua conta de e-mail fo...\n",
              "\n",
              "[5 rows x 4 columns]"
            ]
          },
          "metadata": {
            "tags": []
          },
          "execution_count": 58
        }
      ]
    },
    {
      "cell_type": "markdown",
      "metadata": {
        "id": "sdfpAjPDDXq0",
        "colab_type": "text"
      },
      "source": [
        "Observando o dataset temos os campos _id, title, assunto, conteudo\n",
        "Neste caso irei utilizar somente o campo conteudo, ou seja, somente o texto da mensagem.\n",
        "Também é necessario adicionar o campo fraude para saber qual texto é fraude, neste caso todas são fraude por isso eu adiciono a coluna fraude com o valor 1 em todas as linhas"
      ]
    },
    {
      "cell_type": "code",
      "metadata": {
        "id": "rrzlyN-diOtO",
        "colab_type": "code",
        "colab": {}
      },
      "source": [
        "# Adiciona o coluna 'fraude' com o valor 1\n",
        "df1['fraude'] = 1"
      ],
      "execution_count": 0,
      "outputs": []
    },
    {
      "cell_type": "code",
      "metadata": {
        "id": "dRLcJ1ElPWCl",
        "colab_type": "code",
        "outputId": "3a391429-a5b8-4ba5-a8b5-cd0b3cf740ab",
        "colab": {
          "base_uri": "https://localhost:8080/",
          "height": 204
        }
      },
      "source": [
        "# Exibe o cabeçalho com as novas alterações\n",
        "df1.head()"
      ],
      "execution_count": 0,
      "outputs": [
        {
          "output_type": "execute_result",
          "data": {
            "text/html": [
              "<div>\n",
              "<style scoped>\n",
              "    .dataframe tbody tr th:only-of-type {\n",
              "        vertical-align: middle;\n",
              "    }\n",
              "\n",
              "    .dataframe tbody tr th {\n",
              "        vertical-align: top;\n",
              "    }\n",
              "\n",
              "    .dataframe thead th {\n",
              "        text-align: right;\n",
              "    }\n",
              "</style>\n",
              "<table border=\"1\" class=\"dataframe\">\n",
              "  <thead>\n",
              "    <tr style=\"text-align: right;\">\n",
              "      <th></th>\n",
              "      <th>_id</th>\n",
              "      <th>title</th>\n",
              "      <th>assunto</th>\n",
              "      <th>conteudo</th>\n",
              "      <th>fraude</th>\n",
              "    </tr>\n",
              "  </thead>\n",
              "  <tbody>\n",
              "    <tr>\n",
              "      <th>0</th>\n",
              "      <td>13889</td>\n",
              "      <td>Nota Fiscal Eletrônica</td>\n",
              "      <td>Portal de Documentos Fiscais Brasil - Y4GXJFF9...</td>\n",
              "      <td>Portal de Documentos Fiscais Brasil\\r\\n\\r\\n Re...</td>\n",
              "      <td>1</td>\n",
              "    </tr>\n",
              "    <tr>\n",
              "      <th>1</th>\n",
              "      <td>13887</td>\n",
              "      <td>Currículo</td>\n",
              "      <td>Curriculum Vitae</td>\n",
              "      <td>Boa tarde, Segue em anexo meu curriculum, tenn...</td>\n",
              "      <td>1</td>\n",
              "    </tr>\n",
              "    <tr>\n",
              "      <th>2</th>\n",
              "      <td>13888</td>\n",
              "      <td>Dispositivo de Segurança Bradesco</td>\n",
              "      <td>Dispositivo de Seguranca Desabilitado - Conta ...</td>\n",
              "      <td>Informamos que o período de uso do seu disposi...</td>\n",
              "      <td>1</td>\n",
              "    </tr>\n",
              "    <tr>\n",
              "      <th>3</th>\n",
              "      <td>13885</td>\n",
              "      <td>Fatura Net</td>\n",
              "      <td>Fatura em atraso</td>\n",
              "      <td>Para a NET, é muito importante ser transparent...</td>\n",
              "      <td>1</td>\n",
              "    </tr>\n",
              "    <tr>\n",
              "      <th>4</th>\n",
              "      <td>13886</td>\n",
              "      <td>Atualização de e-mail</td>\n",
              "      <td>Aviso de e-mail</td>\n",
              "      <td>Querido usuário,\\r\\n\\r\\nSua conta de e-mail fo...</td>\n",
              "      <td>1</td>\n",
              "    </tr>\n",
              "  </tbody>\n",
              "</table>\n",
              "</div>"
            ],
            "text/plain": [
              "     _id  ... fraude\n",
              "0  13889  ...      1\n",
              "1  13887  ...      1\n",
              "2  13888  ...      1\n",
              "3  13885  ...      1\n",
              "4  13886  ...      1\n",
              "\n",
              "[5 rows x 5 columns]"
            ]
          },
          "metadata": {
            "tags": []
          },
          "execution_count": 60
        }
      ]
    },
    {
      "cell_type": "code",
      "metadata": {
        "id": "iFs4h7-vQQYm",
        "colab_type": "code",
        "colab": {}
      },
      "source": [
        "# Remove as colunas que não serão utilizadas ('_id', 'title' e 'assunto')\n",
        "df1.drop(['_id', 'title','assunto'],axis=1, inplace=True)"
      ],
      "execution_count": 0,
      "outputs": []
    },
    {
      "cell_type": "code",
      "metadata": {
        "id": "JCe8j7OWIWM8",
        "colab_type": "code",
        "outputId": "3f47ef1e-8194-494d-cbed-8399a3b045fa",
        "colab": {
          "base_uri": "https://localhost:8080/",
          "height": 204
        }
      },
      "source": [
        "# Exibe o cabeçalho com as novas alterações\n",
        "df1.head()"
      ],
      "execution_count": 0,
      "outputs": [
        {
          "output_type": "execute_result",
          "data": {
            "text/html": [
              "<div>\n",
              "<style scoped>\n",
              "    .dataframe tbody tr th:only-of-type {\n",
              "        vertical-align: middle;\n",
              "    }\n",
              "\n",
              "    .dataframe tbody tr th {\n",
              "        vertical-align: top;\n",
              "    }\n",
              "\n",
              "    .dataframe thead th {\n",
              "        text-align: right;\n",
              "    }\n",
              "</style>\n",
              "<table border=\"1\" class=\"dataframe\">\n",
              "  <thead>\n",
              "    <tr style=\"text-align: right;\">\n",
              "      <th></th>\n",
              "      <th>conteudo</th>\n",
              "      <th>fraude</th>\n",
              "    </tr>\n",
              "  </thead>\n",
              "  <tbody>\n",
              "    <tr>\n",
              "      <th>0</th>\n",
              "      <td>Portal de Documentos Fiscais Brasil\\r\\n\\r\\n Re...</td>\n",
              "      <td>1</td>\n",
              "    </tr>\n",
              "    <tr>\n",
              "      <th>1</th>\n",
              "      <td>Boa tarde, Segue em anexo meu curriculum, tenn...</td>\n",
              "      <td>1</td>\n",
              "    </tr>\n",
              "    <tr>\n",
              "      <th>2</th>\n",
              "      <td>Informamos que o período de uso do seu disposi...</td>\n",
              "      <td>1</td>\n",
              "    </tr>\n",
              "    <tr>\n",
              "      <th>3</th>\n",
              "      <td>Para a NET, é muito importante ser transparent...</td>\n",
              "      <td>1</td>\n",
              "    </tr>\n",
              "    <tr>\n",
              "      <th>4</th>\n",
              "      <td>Querido usuário,\\r\\n\\r\\nSua conta de e-mail fo...</td>\n",
              "      <td>1</td>\n",
              "    </tr>\n",
              "  </tbody>\n",
              "</table>\n",
              "</div>"
            ],
            "text/plain": [
              "                                            conteudo  fraude\n",
              "0  Portal de Documentos Fiscais Brasil\\r\\n\\r\\n Re...       1\n",
              "1  Boa tarde, Segue em anexo meu curriculum, tenn...       1\n",
              "2  Informamos que o período de uso do seu disposi...       1\n",
              "3  Para a NET, é muito importante ser transparent...       1\n",
              "4  Querido usuário,\\r\\n\\r\\nSua conta de e-mail fo...       1"
            ]
          },
          "metadata": {
            "tags": []
          },
          "execution_count": 62
        }
      ]
    },
    {
      "cell_type": "code",
      "metadata": {
        "id": "mTx8JE0xFM1t",
        "colab_type": "code",
        "outputId": "ca5686ba-be3e-4ac9-ce24-8c60b14ac2d8",
        "colab": {
          "base_uri": "https://localhost:8080/",
          "height": 34
        }
      },
      "source": [
        "df1.shape"
      ],
      "execution_count": 0,
      "outputs": [
        {
          "output_type": "execute_result",
          "data": {
            "text/plain": [
              "(10449, 2)"
            ]
          },
          "metadata": {
            "tags": []
          },
          "execution_count": 63
        }
      ]
    },
    {
      "cell_type": "code",
      "metadata": {
        "id": "cZqA8eQIzFz2",
        "colab_type": "code",
        "colab": {}
      },
      "source": [
        "# Aqui estou mantendo apenas 6000 linhas do meu dataframe, pois como veremos mais a frente\n",
        "# o meu segundo dataset que contém as mensagens que não são fraude contem apenas 4212\n",
        "# apos a limpesa do primeiro dataframe ele ficará com 4675\n",
        "df1 = df1[:6000]"
      ],
      "execution_count": 0,
      "outputs": []
    },
    {
      "cell_type": "code",
      "metadata": {
        "id": "D2fogYSfF-Ft",
        "colab_type": "code",
        "outputId": "6bfc910b-b77d-4670-88c6-7314c5ef0322",
        "colab": {
          "base_uri": "https://localhost:8080/",
          "height": 34
        }
      },
      "source": [
        "df1.shape"
      ],
      "execution_count": 0,
      "outputs": [
        {
          "output_type": "execute_result",
          "data": {
            "text/plain": [
              "(6000, 2)"
            ]
          },
          "metadata": {
            "tags": []
          },
          "execution_count": 65
        }
      ]
    },
    {
      "cell_type": "code",
      "metadata": {
        "id": "QNvKeoKMJBDt",
        "colab_type": "code",
        "colab": {}
      },
      "source": [
        "# Remove os conteudos duplicados\n",
        "df1.drop_duplicates(inplace=True)"
      ],
      "execution_count": 0,
      "outputs": []
    },
    {
      "cell_type": "code",
      "metadata": {
        "id": "t_xDumCuJlXg",
        "colab_type": "code",
        "outputId": "ed66d6d3-e462-4b2a-d93c-8b172bc8e550",
        "colab": {
          "base_uri": "https://localhost:8080/",
          "height": 68
        }
      },
      "source": [
        "# Remove os conteudos nulos\n",
        "df1.isnull().sum()"
      ],
      "execution_count": 0,
      "outputs": [
        {
          "output_type": "execute_result",
          "data": {
            "text/plain": [
              "conteudo    1\n",
              "fraude      0\n",
              "dtype: int64"
            ]
          },
          "metadata": {
            "tags": []
          },
          "execution_count": 67
        }
      ]
    },
    {
      "cell_type": "code",
      "metadata": {
        "id": "GkpiGYMOJNZK",
        "colab_type": "code",
        "outputId": "a4def893-c76f-4fa4-e610-555a82dec796",
        "colab": {
          "base_uri": "https://localhost:8080/",
          "height": 34
        }
      },
      "source": [
        "# Mostra a quantidade de linhas e colulas do dataFrame 1 depois da alteração\n",
        "df1.shape"
      ],
      "execution_count": 0,
      "outputs": [
        {
          "output_type": "execute_result",
          "data": {
            "text/plain": [
              "(4675, 2)"
            ]
          },
          "metadata": {
            "tags": []
          },
          "execution_count": 68
        }
      ]
    },
    {
      "cell_type": "code",
      "metadata": {
        "id": "J_5yi4AfU3LM",
        "colab_type": "code",
        "outputId": "78703cd1-6316-423f-8f11-4c6908ae089d",
        "colab": {
          "base_uri": "https://localhost:8080/",
          "height": 51
        }
      },
      "source": [
        "# Baixa a lista de 'stopwords' e seta o \"dicionário\" portugues\n",
        "nltk.download('stopwords')\n",
        "stopwords = nltk.corpus.stopwords.words('portuguese')"
      ],
      "execution_count": 0,
      "outputs": [
        {
          "output_type": "stream",
          "text": [
            "[nltk_data] Downloading package stopwords to /root/nltk_data...\n",
            "[nltk_data]   Unzipping corpora/stopwords.zip.\n"
          ],
          "name": "stdout"
        }
      ]
    },
    {
      "cell_type": "code",
      "metadata": {
        "id": "CVP2SgRPXyty",
        "colab_type": "code",
        "colab": {}
      },
      "source": [
        "# Função que é utilizada para \"limpar\" o texto\n",
        "def process_text_conteudo(conteudo):\n",
        "  import unicodedata\n",
        "\n",
        "  # Remove pontuação\n",
        "  nopont = [char for char in conteudo if char not in string.punctuation]\n",
        "\n",
        "  # Forma as palavras todas em minúnculas\n",
        "  nopont = ''.join(nopont).lower()\n",
        "  \n",
        "  # remove acentos\n",
        "  nopont = unicodedata.normalize('NFKD', nopont).encode('ASCII', 'ignore').decode('ASCII')\n",
        "\n",
        "  # cria lista contendo somente palavras removento as stopwords\n",
        "  clean_palavras = [palavra for palavra in nopont.split() if palavra not in stopwords]\n",
        "\n",
        "  return clean_palavras\n"
      ],
      "execution_count": 0,
      "outputs": []
    },
    {
      "cell_type": "code",
      "metadata": {
        "id": "LhNYXd2Fbqhc",
        "colab_type": "code",
        "outputId": "9d9b3ec1-8fa1-467a-8cf6-0b2b0e688109",
        "colab": {
          "base_uri": "https://localhost:8080/",
          "height": 119
        }
      },
      "source": [
        "# Mostra o campo 'conteudo' apos filtar as palavras\n",
        "df1['conteudo'].head().apply(process_text_conteudo)"
      ],
      "execution_count": 0,
      "outputs": [
        {
          "output_type": "execute_result",
          "data": {
            "text/plain": [
              "0    [portal, documentos, fiscais, brasil, referenc...\n",
              "1    [boa, tarde, segue, anexo, curriculum, tennho,...\n",
              "2    [informamos, periodo, uso, dispositivo, segura...\n",
              "3    [net, importante, ser, transparente, voce, inf...\n",
              "4    [querido, usuario, conta, email, login, local,...\n",
              "Name: conteudo, dtype: object"
            ]
          },
          "metadata": {
            "tags": []
          },
          "execution_count": 71
        }
      ]
    },
    {
      "cell_type": "markdown",
      "metadata": {
        "id": "wNdLTCCOJK_m",
        "colab_type": "text"
      },
      "source": [
        "# Segundo Dataset\n",
        "Este dataset foi criado a partir de menssagens pessoais de e-mail.\n",
        "Na criação deste dataset eu já realizei as alterações necessarias, mantive somente o texto da mensagem e adicionei a coluna fraude com o valor 0 em todas as linhas"
      ]
    },
    {
      "cell_type": "code",
      "metadata": {
        "id": "T6DOrr0WUDK2",
        "colab_type": "code",
        "colab": {}
      },
      "source": [
        "# Carega o dataset do PC\n",
        "#uploaded = files.upload()"
      ],
      "execution_count": 0,
      "outputs": []
    },
    {
      "cell_type": "code",
      "metadata": {
        "id": "IK40wfcHUaCz",
        "colab_type": "code",
        "colab": {}
      },
      "source": [
        "# Lê o arquivo cvs\n",
        "dataset_pd_2 = pd.read_csv('/content/drive/My Drive/Colab Notebooks/dataset_emails.csv',encoding='utf-8')"
      ],
      "execution_count": 0,
      "outputs": []
    },
    {
      "cell_type": "code",
      "metadata": {
        "id": "mHTbKm6mUhg1",
        "colab_type": "code",
        "colab": {}
      },
      "source": [
        "# Cria o segundo DataFrame\n",
        "df2 = pd.DataFrame(dataset_pd_2)"
      ],
      "execution_count": 0,
      "outputs": []
    },
    {
      "cell_type": "code",
      "metadata": {
        "id": "2VxZNpLQUq-z",
        "colab_type": "code",
        "outputId": "65daee7b-b130-4fb6-fd8e-8b479872dc84",
        "colab": {
          "base_uri": "https://localhost:8080/",
          "height": 204
        }
      },
      "source": [
        "# Exibe o cabeçalho com (5 primeiras linhas) do 2 dataframe\n",
        "df2.head()"
      ],
      "execution_count": 0,
      "outputs": [
        {
          "output_type": "execute_result",
          "data": {
            "text/html": [
              "<div>\n",
              "<style scoped>\n",
              "    .dataframe tbody tr th:only-of-type {\n",
              "        vertical-align: middle;\n",
              "    }\n",
              "\n",
              "    .dataframe tbody tr th {\n",
              "        vertical-align: top;\n",
              "    }\n",
              "\n",
              "    .dataframe thead th {\n",
              "        text-align: right;\n",
              "    }\n",
              "</style>\n",
              "<table border=\"1\" class=\"dataframe\">\n",
              "  <thead>\n",
              "    <tr style=\"text-align: right;\">\n",
              "      <th></th>\n",
              "      <th>conteudo</th>\n",
              "      <th>fraude</th>\n",
              "    </tr>\n",
              "  </thead>\n",
              "  <tbody>\n",
              "    <tr>\n",
              "      <th>0</th>\n",
              "      <td>\\n\\n\\n\\n\\n \\n\\t\\t\\tHoje no Twitter\\n\\t\\nEm men...</td>\n",
              "      <td>0</td>\n",
              "    </tr>\n",
              "    <tr>\n",
              "      <th>1</th>\n",
              "      <td>\\n\\n\\n\\n\\n\\nIMG_1110401321946.jpeg\\n\\n\\nIMG_11...</td>\n",
              "      <td>0</td>\n",
              "    </tr>\n",
              "    <tr>\n",
              "      <th>2</th>\n",
              "      <td>\\n\\n\\n\\n\\nContas Firefox\\nAutenticação em duas...</td>\n",
              "      <td>0</td>\n",
              "    </tr>\n",
              "    <tr>\n",
              "      <th>3</th>\n",
              "      <td>\\n\\n\\n\\n\\n \\n \\nLinkedIn \\t\\n \\n\\tGrupos\\n \\n ...</td>\n",
              "      <td>0</td>\n",
              "    </tr>\n",
              "    <tr>\n",
              "      <th>4</th>\n",
              "      <td>\\n\\n\\n\\n\\nOlá Jones,\\n\\nO nosso aluno,  O , pr...</td>\n",
              "      <td>0</td>\n",
              "    </tr>\n",
              "  </tbody>\n",
              "</table>\n",
              "</div>"
            ],
            "text/plain": [
              "                                            conteudo  fraude\n",
              "0  \\n\\n\\n\\n\\n \\n\\t\\t\\tHoje no Twitter\\n\\t\\nEm men...       0\n",
              "1  \\n\\n\\n\\n\\n\\nIMG_1110401321946.jpeg\\n\\n\\nIMG_11...       0\n",
              "2  \\n\\n\\n\\n\\nContas Firefox\\nAutenticação em duas...       0\n",
              "3  \\n\\n\\n\\n\\n \\n \\nLinkedIn \\t\\n \\n\\tGrupos\\n \\n ...       0\n",
              "4  \\n\\n\\n\\n\\nOlá Jones,\\n\\nO nosso aluno,  O , pr...       0"
            ]
          },
          "metadata": {
            "tags": []
          },
          "execution_count": 75
        }
      ]
    },
    {
      "cell_type": "code",
      "metadata": {
        "id": "O9iFeFySVLwj",
        "colab_type": "code",
        "outputId": "aa659085-a22f-4ac4-e1c0-b9da83f12c55",
        "colab": {
          "base_uri": "https://localhost:8080/",
          "height": 68
        }
      },
      "source": [
        "# Remove os conteudos nulos\n",
        "df2.isnull().sum()"
      ],
      "execution_count": 0,
      "outputs": [
        {
          "output_type": "execute_result",
          "data": {
            "text/plain": [
              "conteudo    0\n",
              "fraude      0\n",
              "dtype: int64"
            ]
          },
          "metadata": {
            "tags": []
          },
          "execution_count": 76
        }
      ]
    },
    {
      "cell_type": "code",
      "metadata": {
        "id": "bQans9h5U59H",
        "colab_type": "code",
        "colab": {}
      },
      "source": [
        "# Remove os conteudos duplicados\n",
        "df2.drop_duplicates(inplace=True)"
      ],
      "execution_count": 0,
      "outputs": []
    },
    {
      "cell_type": "code",
      "metadata": {
        "id": "MQ3wJC-hVEwD",
        "colab_type": "code",
        "outputId": "528c4eb4-f460-467d-8a67-027148b7716f",
        "colab": {
          "base_uri": "https://localhost:8080/",
          "height": 34
        }
      },
      "source": [
        "# Mostra a quantidade de linhas e colulas do dataFrame 2 depois da alteração\n",
        "df2.shape"
      ],
      "execution_count": 0,
      "outputs": [
        {
          "output_type": "execute_result",
          "data": {
            "text/plain": [
              "(4212, 2)"
            ]
          },
          "metadata": {
            "tags": []
          },
          "execution_count": 78
        }
      ]
    },
    {
      "cell_type": "code",
      "metadata": {
        "id": "JMDZvO3yWX8z",
        "colab_type": "code",
        "outputId": "a60dcf57-cb31-49b1-8a92-5b2400bc79f4",
        "colab": {
          "base_uri": "https://localhost:8080/",
          "height": 119
        }
      },
      "source": [
        "# Mostra o campo 'conteudo' apos filtrar as palavras\n",
        "df2['conteudo'].head().apply(process_text_conteudo)\n",
        "# a função process_text_conteudo já foi criada acima"
      ],
      "execution_count": 0,
      "outputs": [
        {
          "output_type": "execute_result",
          "data": {
            "text/plain": [
              "0    [hoje, twitter, mensagem, natal, papa, condena...\n",
              "1    [img1110401321946jpeg, img1110401321946jpeg, 6...\n",
              "2    [contas, firefox, autenticacao, duas, etapas, ...\n",
              "3    [linkedin, grupos, seguranca, informacao, segu...\n",
              "4    [ola, jones, aluno, precisa, fazer, prova, sub...\n",
              "Name: conteudo, dtype: object"
            ]
          },
          "metadata": {
            "tags": []
          },
          "execution_count": 79
        }
      ]
    },
    {
      "cell_type": "code",
      "metadata": {
        "id": "DL1wSLwIb0ZC",
        "colab_type": "code",
        "colab": {}
      },
      "source": [
        "# Criando um novo dataframe com os 2 dataframes\n",
        "data_frames = [df1, df2]"
      ],
      "execution_count": 0,
      "outputs": []
    },
    {
      "cell_type": "code",
      "metadata": {
        "id": "23qEp8SAdjuY",
        "colab_type": "code",
        "colab": {}
      },
      "source": [
        "# Concatena os 2 dataframes\n",
        "data_frame = pd.concat(data_frames)"
      ],
      "execution_count": 0,
      "outputs": []
    },
    {
      "cell_type": "code",
      "metadata": {
        "id": "2skUHyTVdzDa",
        "colab_type": "code",
        "outputId": "071474a7-97df-4a5e-9512-eb0abf07c82e",
        "colab": {
          "base_uri": "https://localhost:8080/",
          "height": 34
        }
      },
      "source": [
        "# Mostra o corpo do novo dataset\n",
        "data_frame.shape"
      ],
      "execution_count": 0,
      "outputs": [
        {
          "output_type": "execute_result",
          "data": {
            "text/plain": [
              "(8887, 2)"
            ]
          },
          "metadata": {
            "tags": []
          },
          "execution_count": 82
        }
      ]
    },
    {
      "cell_type": "code",
      "metadata": {
        "id": "i2hPN3cViano",
        "colab_type": "code",
        "outputId": "a2889c16-ec5b-4c1a-e8ae-e160c0a42d34",
        "colab": {
          "base_uri": "https://localhost:8080/",
          "height": 255
        }
      },
      "source": [
        "# Mostra o cabeçalho do dataframe\n",
        "data_frame.head"
      ],
      "execution_count": 0,
      "outputs": [
        {
          "output_type": "execute_result",
          "data": {
            "text/plain": [
              "<bound method NDFrame.head of                                                conteudo  fraude\n",
              "0     Portal de Documentos Fiscais Brasil\\r\\n\\r\\n Re...       1\n",
              "1     Boa tarde, Segue em anexo meu curriculum, tenn...       1\n",
              "2     Informamos que o período de uso do seu disposi...       1\n",
              "3     Para a NET, é muito importante ser transparent...       1\n",
              "4     Querido usuário,\\r\\n\\r\\nSua conta de e-mail fo...       1\n",
              "...                                                 ...     ...\n",
              "4553  \\n\\n\\n\\n\\n\\n \\n \\nLinkedIn\\t\\n \\n\\tGrupos\\n \\n...       0\n",
              "4554  \\n\\n\\n\\n\\nHostGator Brasil\\n\\nOlá  de  ,\\n\\nRe...       0\n",
              "4555  \\n\\n\\n\\n\\n\\nFacebook\\nfacebook\\nPessoas que vo...       0\n",
              "4556  \\n\\n\\n\\n\\n\\nOlá, , tudo bem?\\n\\n\\n\\n\\n\\n\\n\\nCO...       0\n",
              "4557       \\n\\n\\n\\n\\n\\n\\nPortal Poupatempo.pdf\\t84,2 KB       0\n",
              "\n",
              "[8887 rows x 2 columns]>"
            ]
          },
          "metadata": {
            "tags": []
          },
          "execution_count": 83
        }
      ]
    },
    {
      "cell_type": "code",
      "metadata": {
        "id": "FzFiqKgEt4Aa",
        "colab_type": "code",
        "colab": {}
      },
      "source": [
        "# Transforma as palavras em uma matriz de numeros tokens\n",
        "from sklearn.feature_extraction.text import TfidfVectorizer\n",
        "vectorizer = TfidfVectorizer(analyzer=process_text_conteudo)\n",
        "vect = vectorizer.fit_transform(data_frame['conteudo'].values.astype('U'))"
      ],
      "execution_count": 0,
      "outputs": []
    },
    {
      "cell_type": "code",
      "metadata": {
        "id": "dkHwqNVMeFG0",
        "colab_type": "code",
        "outputId": "d04f690f-bbba-4c07-e536-e156bea4322a",
        "colab": {
          "base_uri": "https://localhost:8080/"
        }
      },
      "source": [
        "# Exibe o corpo da matiz\n",
        "print(vect.shape)\n"
      ],
      "execution_count": 0,
      "outputs": [
        {
          "output_type": "stream",
          "text": [
            "(8887, 55601)\n"
          ],
          "name": "stdout"
        }
      ]
    },
    {
      "cell_type": "code",
      "metadata": {
        "id": "ZAKhd17SemXO",
        "colab_type": "code",
        "colab": {}
      },
      "source": [
        "from sklearn.model_selection import train_test_split\n",
        "# Separando dados em 80% treino e 20% para teste\n",
        "X_train, X_test, y_train, y_test = train_test_split(vect, data_frame['fraude'] , test_size=0.20, random_state=0)"
      ],
      "execution_count": 0,
      "outputs": []
    },
    {
      "cell_type": "code",
      "metadata": {
        "id": "cTrMXVrohISV",
        "colab_type": "code",
        "colab": {}
      },
      "source": [
        "from sklearn.naive_bayes import MultinomialNB\n",
        "# Criando modelo de classificação com algoritimo naive_bayes\n",
        "classifier = MultinomialNB().fit(X_train, y_train)"
      ],
      "execution_count": 0,
      "outputs": []
    },
    {
      "cell_type": "code",
      "metadata": {
        "id": "_HtkiZADxJ5M",
        "colab_type": "code",
        "outputId": "e90bcb14-cec1-4202-a276-3b6ef992c372",
        "colab": {
          "base_uri": "https://localhost:8080/"
        }
      },
      "source": [
        "# Relatorio e estatisticas com os dados do treinamento\n",
        "from sklearn.metrics import classification_report, confusion_matrix, accuracy_score\n",
        "pred = classifier.predict(X_train)\n",
        "print(classification_report(y_train, pred))\n",
        "print()\n",
        "print('Confusion Matrix: \\n',confusion_matrix(y_train, pred))\n",
        "print()\n",
        "print('Accuracy: ', accuracy_score(y_train, pred))\n"
      ],
      "execution_count": 0,
      "outputs": [
        {
          "output_type": "stream",
          "text": [
            "              precision    recall  f1-score   support\n",
            "\n",
            "           0       0.98      0.97      0.98      3387\n",
            "           1       0.97      0.99      0.98      3722\n",
            "\n",
            "    accuracy                           0.98      7109\n",
            "   macro avg       0.98      0.98      0.98      7109\n",
            "weighted avg       0.98      0.98      0.98      7109\n",
            "\n",
            "\n",
            "Confusion Matrix: \n",
            " [[3281  106]\n",
            " [  51 3671]]\n",
            "\n",
            "Accuracy:  0.9779153186102124\n"
          ],
          "name": "stdout"
        }
      ]
    },
    {
      "cell_type": "code",
      "metadata": {
        "id": "qs9wI0Dbzkba",
        "colab_type": "code",
        "outputId": "c6f42f6e-cc70-49c8-89ac-2cacb943888b",
        "colab": {
          "base_uri": "https://localhost:8080/"
        }
      },
      "source": [
        "# Relatorio e estatisticas com os dados do teste\n",
        "from sklearn.metrics import classification_report, confusion_matrix, accuracy_score\n",
        "pred = classifier.predict(X_test)\n",
        "print(classification_report(y_test, pred))\n",
        "print()\n",
        "print('Confusion Matrix: \\n',confusion_matrix(y_test, pred))\n",
        "print()\n",
        "print('Accuracy: ', accuracy_score(y_test, pred))"
      ],
      "execution_count": 0,
      "outputs": [
        {
          "output_type": "stream",
          "text": [
            "              precision    recall  f1-score   support\n",
            "\n",
            "           0       0.98      0.96      0.97       825\n",
            "           1       0.96      0.98      0.97       953\n",
            "\n",
            "    accuracy                           0.97      1778\n",
            "   macro avg       0.97      0.97      0.97      1778\n",
            "weighted avg       0.97      0.97      0.97      1778\n",
            "\n",
            "\n",
            "Confusion Matrix: \n",
            " [[790  35]\n",
            " [ 19 934]]\n",
            "\n",
            "Accuracy:  0.96962879640045\n"
          ],
          "name": "stdout"
        }
      ]
    },
    {
      "cell_type": "code",
      "metadata": {
        "id": "iV85tEGptGvZ",
        "colab_type": "code",
        "colab": {}
      },
      "source": [
        "#exporta o modelo \n",
        "import pickle\n",
        "filenameModelo = 'modelo.pk1'\n",
        "pickle.dump(classifier, open(filenameModelo, 'wb'))\n"
      ],
      "execution_count": 0,
      "outputs": []
    },
    {
      "cell_type": "code",
      "metadata": {
        "id": "Jwuo8kW_Ld6n",
        "colab_type": "code",
        "colab": {}
      },
      "source": [
        "#exporta o dictionary\n",
        "filenameMessagesWords = 'messages_words.pk1'\n",
        "pickle.dump(vectorizer.vocabulary_, open(filenameMessagesWords, 'wb'))\n"
      ],
      "execution_count": 0,
      "outputs": []
    },
    {
      "cell_type": "markdown",
      "metadata": {
        "id": "aA5LIyi0gdMG",
        "colab_type": "text"
      },
      "source": [
        "# Teste de aplicação\n",
        "Aqui inicia o teste \"real\" do modelo criado"
      ]
    },
    {
      "cell_type": "code",
      "metadata": {
        "id": "xFv6X4yjgmZs",
        "colab_type": "code",
        "colab": {}
      },
      "source": [
        "import os\n",
        "import pickle\n",
        "import numpy as np\n",
        "import pandas as pd\n",
        "import sklearn.feature_extraction"
      ],
      "execution_count": 0,
      "outputs": []
    },
    {
      "cell_type": "code",
      "metadata": {
        "id": "X56yggqMrcie",
        "colab_type": "code",
        "colab": {}
      },
      "source": [
        "#uploaded = files.upload()"
      ],
      "execution_count": 0,
      "outputs": []
    },
    {
      "cell_type": "code",
      "metadata": {
        "id": "JZLaO1wLrAvL",
        "colab_type": "code",
        "colab": {}
      },
      "source": [
        "# Abre o modelo e o dicionário\n",
        "modelo = pickle.load(open('/content/modelo.pk1','rb'))\n",
        "modelo_messages_words = pickle.load(open('/content/messages_words.pk1','rb'))"
      ],
      "execution_count": 0,
      "outputs": []
    },
    {
      "cell_type": "code",
      "metadata": {
        "id": "Kkj0HDK0g46i",
        "colab_type": "code",
        "colab": {}
      },
      "source": [
        "# Exemplo de Email\n",
        "# O primeio exemplo é um e-mail normal\n",
        "dados = {\"conteudo\":\"Olá, pessoal, pronto para um novo desafio DEV? Hoje sai o terceiro vídeo da semana devepoler. Lembrando que esta é uma aula para todos os níveis de conhecimento. Ou seja, se você está no nível básico, intermediário ou avançado, a aula será bem produtiva e você aprenderá muito sobre vários temas. Como Nodejs, MongoDB, VueJS e muito mais: esta aula ficará no ar somente durante 7 dias, então recomendo assistir agora mesmo, pois se você deixar para depois, ela poderá não estar mais disponível!  Equipe xyz\"}\n",
        "# Exemplo de email FRAUDE\n",
        "#dados = {\"conteudo\":\"Netflix Atualize seus dados de pagamento! Olá <email> Ocorreu um problema com seu meio de pagamento atual. Tentaremos efetuar uma cobrança novamente mas recomendamos que você atualize essas informações. ATUALIZAR PAGAMENTO Lembrando que sua conta estará suspensa caso o débito não seja realizado. Informações da sua conta: Email <email> Provedor do serviço Netflix Entretenimento Brasil, Ltda. Plano Básico Preço do plano R$21,90/mês Estamos sempre prontos para ajudar. Acesse o Centro de ajuda para saber mais ou fale com a gente. Seus amigos da Netflix VEJA TODAS AS SÉRIES E FILMES> Ao assinar a Netflix, você concorda com nossos Termos de uso e com a Declaração de privacidade Dúvidas? Ligue 0800-887-0201 Estamos enviando este email porque você é assinante Netflix. Para alterar suas preferências de email a qualquer momento, acesse a página Configurações de comunicação da sua conta. Não responda a este email, pois a caixa deste endereço de email não é monitorada. Para obter ajuda ou entrar em contato, acesse o Centro de ajuda em help.netflix.com. Esta mensagem foi enviada para [ erik1605@hotmail.com  ] pela Netflix. SRC: 12500_pt-BR_BR A utilização do serviços e do site da Netflix está sujeita aos Termos de privacidade. Netflix Entretenimento Brasil, Ltda.\"}"
      ],
      "execution_count": 0,
      "outputs": []
    },
    {
      "cell_type": "code",
      "metadata": {
        "id": "7w5sVM09hszN",
        "colab_type": "code",
        "colab": {}
      },
      "source": [
        "# Processa o texto chamando a função process_text_conteudo para limpar o texto\n",
        "text_process = process_text_conteudo(dados.values())"
      ],
      "execution_count": 0,
      "outputs": []
    },
    {
      "cell_type": "code",
      "metadata": {
        "id": "e4PtejGoKjCS",
        "colab_type": "code",
        "colab": {}
      },
      "source": [
        "# Carrega o modelo passando o dicionário\n",
        "loaded_vectorizer = sklearn.feature_extraction.text.CountVectorizer(vocabulary=modelo_messages_words)"
      ],
      "execution_count": 0,
      "outputs": []
    },
    {
      "cell_type": "code",
      "metadata": {
        "id": "cyS2iipHhFPH",
        "colab_type": "code",
        "colab": {}
      },
      "source": [
        "# Faz a predição do texto\n",
        "predicao = modelo.predict(loaded_vectorizer.transform(text_process))"
      ],
      "execution_count": 0,
      "outputs": []
    },
    {
      "cell_type": "code",
      "metadata": {
        "id": "x0beEQRRXTTO",
        "colab_type": "code",
        "outputId": "a2f03efe-8112-48ac-f164-4e950feed97b",
        "colab": {
          "base_uri": "https://localhost:8080/"
        }
      },
      "source": [
        "# Resultado da predição usando os exemplos criados\n",
        "resultado = predicao[0]\n",
        "# Se for Fraude imprime FRAUDE se não imprime OK\n",
        "resposta = 'FRAUDE' if resultado == 1 else 'OK'\n",
        "print(resposta)"
      ],
      "execution_count": 0,
      "outputs": [
        {
          "output_type": "stream",
          "text": [
            "OK\n"
          ],
          "name": "stdout"
        }
      ]
    }
  ]
}